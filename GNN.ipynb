{
  "cells": [
    {
      "cell_type": "markdown",
      "id": "c727af5c",
      "metadata": {
        "id": "c727af5c"
      },
      "source": [
        "### GNN embedding"
      ]
    },
    {
      "cell_type": "code",
      "execution_count": 1,
      "id": "c305cec3",
      "metadata": {
        "colab": {
          "base_uri": "https://localhost:8080/"
        },
        "id": "c305cec3",
        "outputId": "d59be192-0b2b-483b-c8b5-18b84708a95f"
      },
      "outputs": [],
      "source": [
        "#!pip install python-chess\n"
      ]
    },
    {
      "cell_type": "code",
      "execution_count": 2,
      "id": "93224c79",
      "metadata": {
        "colab": {
          "base_uri": "https://localhost:8080/"
        },
        "id": "93224c79",
        "outputId": "e92b6718-e766-49c0-fd71-12633067b696"
      },
      "outputs": [],
      "source": [
        "#!pip install torch torchvision torchaudio --index-url https://download.pytorch.org/whl/cpu\n",
        "#!pip install torch-scatter -f https://data.pyg.org/whl/torch-2.6.0+cpu.html\n",
        "#!pip install torch-sparse -f https://data.pyg.org/whl/torch-2.6.0+cpu.html\n",
        "#!pip install torch-geometric"
      ]
    },
    {
      "cell_type": "code",
      "execution_count": 3,
      "id": "ce523f86",
      "metadata": {
        "id": "ce523f86"
      },
      "outputs": [],
      "source": [
        "import os\n",
        "import zipfile\n",
        "import chess.pgn\n",
        "import torch\n",
        "import numpy as np\n",
        "from io import TextIOWrapper\n",
        "from torch_geometric.data import Data\n",
        "import pandas as pd\n",
        "\n",
        "\n",
        "\n",
        "# =====================\n",
        "# FUNCIÓN DE FEATURES\n",
        "# =====================\n",
        "\n",
        "def board_to_feature(board):\n",
        "    \"\"\"Convierte el estado del tablero a un vector de 773 features\"\"\"\n",
        "    piece_map = board.piece_map()\n",
        "    planes = np.zeros((12, 64), dtype=np.float32)\n",
        "    piece_to_index = {\n",
        "        'P': 0, 'N': 1, 'B': 2, 'R': 3, 'Q': 4, 'K': 5,\n",
        "        'p': 6, 'n': 7, 'b': 8, 'r': 9, 'q': 10, 'k': 11\n",
        "    }\n",
        "    for square, piece in piece_map.items():\n",
        "        planes[piece_to_index[piece.symbol()]][square] = 1.0\n",
        "    flat_pieces = planes.reshape(-1)  # 768\n",
        "\n",
        "    extras = [\n",
        "        float(board.turn),\n",
        "        float(board.has_kingside_castling_rights(chess.WHITE)),\n",
        "        float(board.has_queenside_castling_rights(chess.WHITE)),\n",
        "        float(board.has_kingside_castling_rights(chess.BLACK)),\n",
        "        float(board.has_queenside_castling_rights(chess.BLACK)),\n",
        "    ]\n",
        "    return np.concatenate([flat_pieces, extras])  # 773\n",
        "\n",
        "# =====================\n",
        "# FUNCIÓN PARA GRAFO DE PARTIDA\n",
        "# =====================\n",
        "\n",
        "def pgn_to_graph_one_player(game, color=\"white\"):\n",
        "    board = game.board()\n",
        "    x = []\n",
        "    edge_index = [[], []]\n",
        "    node_idx = 0\n",
        "    move_idx = 0\n",
        "\n",
        "    for move in game.mainline_moves():\n",
        "        board.push(move)\n",
        "        if (color == \"white\" and move_idx % 2 == 0) or (color == \"black\" and move_idx % 2 == 1):\n",
        "            x.append(board_to_feature(board.copy()))\n",
        "            if node_idx > 0:\n",
        "                edge_index[0].append(node_idx - 1)\n",
        "                edge_index[1].append(node_idx)\n",
        "            node_idx += 1\n",
        "        move_idx += 1\n",
        "\n",
        "    if len(x) < 2:\n",
        "        return None\n",
        "\n",
        "    x = torch.tensor(np.stack(x), dtype=torch.float)\n",
        "    edge_index = torch.tensor(edge_index, dtype=torch.long)\n",
        "    return Data(x=x, edge_index=edge_index)\n",
        "\n",
        "def process_zip_pgns(zip_folder):\n",
        "    data_by_player = {}\n",
        "    metadata = []\n",
        "    game_id = 0\n",
        "\n",
        "    for filename in os.listdir(zip_folder):\n",
        "        if not filename.endswith(\".zip\"):\n",
        "            continue\n",
        "\n",
        "        player_name = filename.replace(\".zip\", \"\")\n",
        "        zip_path = os.path.join(zip_folder, filename)\n",
        "        graphs = []\n",
        "\n",
        "        with zipfile.ZipFile(zip_path, 'r') as zf:\n",
        "            for pgn_filename in zf.namelist():\n",
        "                with zf.open(pgn_filename) as file:\n",
        "                    pgn = TextIOWrapper(file, encoding='utf-8', errors='ignore')\n",
        "\n",
        "                    while True:\n",
        "                        game = chess.pgn.read_game(pgn)\n",
        "                        if game is None:\n",
        "                            break\n",
        "\n",
        "                        white = game.headers.get(\"White\", \"\").lower()\n",
        "                        black = game.headers.get(\"Black\", \"\").lower()\n",
        "                        target = player_name.lower()\n",
        "\n",
        "                        if target in white:\n",
        "                            color = \"white\"\n",
        "                        elif target in black:\n",
        "                            color = \"black\"\n",
        "                        else:\n",
        "                            continue\n",
        "\n",
        "                        graph = pgn_to_graph_one_player(game, color=color)\n",
        "                        if graph:\n",
        "                            graph.player = player_name\n",
        "                            graph.game_id = game_id\n",
        "                            graphs.append(graph)\n",
        "\n",
        "                            metadata.append({\n",
        "    \"game_id\": game_id,\n",
        "    \"player\": player_name,\n",
        "    \"Event\": game.headers.get(\"Event\", \"\"),\n",
        "    \"Site\": game.headers.get(\"Site\", \"\"),\n",
        "    \"Date\": game.headers.get(\"Date\", \"\"),\n",
        "    \"Round\": game.headers.get(\"Round\", \"\"),\n",
        "    \"White\": game.headers.get(\"White\", \"\"),\n",
        "    \"Black\": game.headers.get(\"Black\", \"\"),\n",
        "    \"Result\": game.headers.get(\"Result\", \"\"),\n",
        "    \"WhiteElo\": game.headers.get(\"WhiteElo\", \"\"),\n",
        "    \"BlackElo\": game.headers.get(\"BlackElo\", \"\"),\n",
        "    \"ECO\": game.headers.get(\"ECO\", \"\"),\n",
        "    \"pgn\": str(game)\n",
        "})\n",
        "\n",
        "                            game_id += 1\n",
        "\n",
        "        data_by_player[player_name] = graphs\n",
        "        print(f\"{player_name}: {len(graphs)} grafos generados\")\n",
        "\n",
        "    # Guardar metadata\n",
        "    df_meta = pd.DataFrame(metadata)\n",
        "    df_meta.to_csv(\"games_metadata.csv\", index=False)\n",
        "    print(\"✅ Metadata guardada en games_metadata.csv\")\n",
        "\n",
        "    return data_by_player\n",
        "\n"
      ]
    },
    {
      "cell_type": "code",
      "execution_count": 5,
      "id": "wTSa_0EeNRfk",
      "metadata": {
        "colab": {
          "base_uri": "https://localhost:8080/"
        },
        "id": "wTSa_0EeNRfk",
        "outputId": "e4a58bea-6a41-4a5a-a3c0-1a2e6344de62"
      },
      "outputs": [
        {
          "name": "stdout",
          "output_type": "stream",
          "text": [
            "Alekhine: 1660 grafos generados\n",
            "Anand: 4201 grafos generados\n",
            "Anderssen: 680 grafos generados\n",
            "Aronian: 5106 grafos generados\n",
            "Bogoljubow: 972 grafos generados\n",
            "Botvinnik: 891 grafos generados\n",
            "Bronstein: 1928 grafos generados\n",
            "Capablanca: 597 grafos generados\n",
            "Carlsen: 6613 grafos generados\n",
            "Caruana: 5339 grafos generados\n",
            "Chigorin: 687 grafos generados\n",
            "DeLaBourdonnais: 0 grafos generados\n",
            "Euwe: 1121 grafos generados\n",
            "Fine: 304 grafos generados\n",
            "Fischer: 825 grafos generados\n"
          ]
        },
        {
          "name": "stderr",
          "output_type": "stream",
          "text": [
            "illegal san: 'Qxe1' in r2k3r/2pPp3/p4n2/3b2B1/1p5P/2qP4/3RQ1P1/4K2R w - - 2 31 while parsing <Game at 0x24b1f666850 ('Gelfand,B' vs. 'Gareev,T', '2019.12.29' at 'Moscow RUS')>\n"
          ]
        },
        {
          "name": "stdout",
          "output_type": "stream",
          "text": [
            "Gelfand: 3969 grafos generados\n",
            "Geller: 2195 grafos generados\n",
            "Ivanchuk: 4949 grafos generados\n",
            "Kamsky: 7035 grafos generados\n",
            "Karjakin: 3534 grafos generados\n",
            "Karpov: 3528 grafos generados\n",
            "Kasparov: 2127 grafos generados\n",
            "Keres: 1570 grafos generados\n",
            "Korchnoi: 1038 grafos generados\n",
            "Kramnik: 4323 grafos generados\n",
            "Larsen: 2377 grafos generados\n",
            "Lasker: 899 grafos generados\n",
            "Leko: 2679 grafos generados\n",
            "Maroczy: 754 grafos generados\n",
            "Morphy: 211 grafos generados\n",
            "Najdorf: 1603 grafos generados\n",
            "Nimzowitsch: 511 grafos generados\n",
            "Petrosian: 1892 grafos generados\n",
            "Philidor: 6 grafos generados\n",
            "Pillsbury: 387 grafos generados\n",
            "Polugaevsky: 1889 grafos generados\n",
            "Portisch: 3029 grafos generados\n",
            "Reshevsky: 1265 grafos generados\n",
            "Rubinstein: 796 grafos generados\n",
            "Schlechter: 738 grafos generados\n",
            "Smyslov: 2624 grafos generados\n",
            "Spassky: 2229 grafos generados\n",
            "Staunton: 283 grafos generados\n",
            "Steinitz: 589 grafos generados\n",
            "Tal: 2430 grafos generados\n",
            "Tarrasch: 703 grafos generados\n",
            "Timman: 3618 grafos generados\n",
            "Topalov: 2611 grafos generados\n",
            "Winawer: 239 grafos generados\n",
            "Zukertort: 264 grafos generados\n",
            "✅ Metadata guardada en games_metadata.csv\n"
          ]
        }
      ],
      "source": [
        "graphs = process_zip_pgns(\"pgns\")"
      ]
    },
    {
      "cell_type": "code",
      "execution_count": 11,
      "id": "d39d826c",
      "metadata": {},
      "outputs": [],
      "source": [
        "graphs_list = []\n",
        "game_id_counter = 0\n",
        "\n",
        "for player, data_list in graphs.items():\n",
        "    for data in data_list:\n",
        "        data.player = player\n",
        "        data.game_id = game_id_counter\n",
        "        graphs_list.append(data)\n",
        "        game_id_counter += 1\n",
        "    "
      ]
    },
    {
      "cell_type": "code",
      "execution_count": 12,
      "id": "bc56006a",
      "metadata": {
        "id": "bc56006a"
      },
      "outputs": [
        {
          "name": "stderr",
          "output_type": "stream",
          "text": [
            "Generando embeddings:   0%|          | 0/3120 [00:00<?, ?it/s]"
          ]
        },
        {
          "name": "stderr",
          "output_type": "stream",
          "text": [
            "Generando embeddings: 100%|██████████| 3120/3120 [01:28<00:00, 35.06it/s]\n"
          ]
        },
        {
          "name": "stdout",
          "output_type": "stream",
          "text": [
            "✅ Embeddings GNN guardados como CSV.\n"
          ]
        }
      ],
      "source": [
        "import torch\n",
        "import torch.nn.functional as F\n",
        "from torch_geometric.nn import GCNConv, global_mean_pool\n",
        "from torch_geometric.loader import DataLoader\n",
        "import pandas as pd\n",
        "from tqdm import tqdm\n",
        "\n",
        "# ======================\n",
        "# Hiperparámetros\n",
        "# ======================\n",
        "INPUT_DIM = 773\n",
        "HIDDEN_DIM = 256\n",
        "EMBED_DIM = 128\n",
        "BATCH_SIZE = 32\n",
        "\n",
        "# ======================\n",
        "# Modelo GCN Encoder\n",
        "# ======================\n",
        "class GNNEncoder(torch.nn.Module):\n",
        "    def __init__(self, in_channels, hidden_channels, out_channels):\n",
        "        super().__init__()\n",
        "        self.conv1 = GCNConv(in_channels, hidden_channels)\n",
        "        self.conv2 = GCNConv(hidden_channels, out_channels)\n",
        "\n",
        "    def forward(self, x, edge_index, batch):\n",
        "        x = F.relu(self.conv1(x, edge_index))\n",
        "        x = self.conv2(x, edge_index)\n",
        "        return global_mean_pool(x, batch)\n",
        "\n",
        "# ======================\n",
        "# Cargar grafos\n",
        "# ======================\n",
        "#graphs = torch.load(\"chess_graphs.pt\")  # cada Data debe tener .player y .game_id\n",
        "loader = DataLoader(graphs_list, batch_size=BATCH_SIZE, shuffle=False)\n",
        "\n",
        "model = GNNEncoder(INPUT_DIM, HIDDEN_DIM, EMBED_DIM)\n",
        "model.eval()\n",
        "\n",
        "# ======================\n",
        "# Embedding loop\n",
        "# ======================\n",
        "embeddings = []\n",
        "players = []\n",
        "game_ids = []\n",
        "\n",
        "with torch.no_grad():\n",
        "    for batch in tqdm(loader, desc=\"Generando embeddings\"):\n",
        "        z = model(batch.x, batch.edge_index, batch.batch)\n",
        "        embeddings.append(z)\n",
        "        graphs_in_batch = batch.to_data_list()\n",
        "        players += [g.player for g in graphs_in_batch]\n",
        "        game_ids += [g.game_id for g in graphs_in_batch]\n",
        "\n",
        "embeddings = torch.cat(embeddings).cpu().numpy()\n",
        "\n",
        "# ======================\n",
        "# Guardar resultados\n",
        "# ======================\n",
        "df = pd.DataFrame(embeddings, columns=[f\"dim_{i}\" for i in range(EMBED_DIM)])\n",
        "df[\"player\"] = players\n",
        "df[\"game_id\"] = game_ids\n",
        "df.to_csv(\"gnn_chess_embeddings.csv\", index=False)\n",
        "\n",
        "print(\"✅ Embeddings GNN guardados como CSV.\")\n",
        "\n"
      ]
    }
  ],
  "metadata": {
    "accelerator": "TPU",
    "colab": {
      "gpuType": "V28",
      "provenance": []
    },
    "kernelspec": {
      "display_name": "Python 3",
      "name": "python3"
    },
    "language_info": {
      "codemirror_mode": {
        "name": "ipython",
        "version": 3
      },
      "file_extension": ".py",
      "mimetype": "text/x-python",
      "name": "python",
      "nbconvert_exporter": "python",
      "pygments_lexer": "ipython3",
      "version": "3.8.10"
    }
  },
  "nbformat": 4,
  "nbformat_minor": 5
}
