{
 "cells": [
  {
   "cell_type": "markdown",
   "id": "4ff57ce8",
   "metadata": {},
   "source": [
    "### e5-large-v2 embedding"
   ]
  },
  {
   "cell_type": "code",
   "execution_count": 3,
   "id": "ca0896b3",
   "metadata": {},
   "outputs": [],
   "source": [
    "import os"
   ]
  },
  {
   "cell_type": "code",
   "execution_count": 7,
   "id": "48ca6d78",
   "metadata": {},
   "outputs": [
    {
     "data": {
      "text/plain": [
       "'/Users/franciscomeza/Desktop/ING/ING_MAT_COMP/9_semestre/Sistemas_recomendadores/Proyecto/ChessMatch-V2'"
      ]
     },
     "execution_count": 7,
     "metadata": {},
     "output_type": "execute_result"
    }
   ],
   "source": [
    "os.getcwd()\n",
    "# os.chdir('..')"
   ]
  },
  {
   "cell_type": "code",
   "execution_count": null,
   "id": "3ef0cf4f",
   "metadata": {},
   "outputs": [
    {
     "name": "stderr",
     "output_type": "stream",
     "text": [
      "Generando embeddings:   0%|          | 114/99804 [00:23<4:32:18,  6.10it/s]"
     ]
    }
   ],
   "source": [
    "import pandas as pd\n",
    "from sentence_transformers import SentenceTransformer\n",
    "from tqdm import tqdm\n",
    "import numpy as np\n",
    "\n",
    "# =======================\n",
    "# 1. CARGAR DATOS\n",
    "# =======================\n",
    "\n",
    "df = pd.read_csv(\"csvs/player_moves.csv\")  # Reemplaza con la ruta a tu CSV\n",
    "df[\"moves\"] = df[\"moves\"].str.replace(\"  \", \" \", regex=False).str.strip()\n",
    "#Eliminamos valores nulos\n",
    "df = df.dropna(subset=[\"moves\"]).copy()\n",
    "df[\"moves\"] = df[\"moves\"].astype(str)\n",
    "df[df[\"moves\"].apply(lambda x: len(str(x).split())) <= 1].head()\n",
    "df = df[df[\"moves\"].apply(lambda x: len(str(x).split())) > 1]\n",
    "df[df.duplicated(subset=[\"player\", \"moves\"])]\n",
    "df = df.drop_duplicates(subset=[\"player\", \"moves\"], keep=\"first\")\n",
    "\n",
    "\n",
    "# =======================\n",
    "# 2. CARGAR MODELO E5\n",
    "# =======================\n",
    "\n",
    "model = SentenceTransformer(\"intfloat/e5-large-v2\")\n",
    "\n",
    "# =======================\n",
    "# 3. GENERAR EMBEDDINGS\n",
    "# =======================\n",
    "\n",
    "tqdm.pandas(desc=\"Generando embeddings\")\n",
    "\n",
    "df[\"embedding\"] = df[\"moves\"].progress_apply(\n",
    "    lambda x: model.encode(x, normalize_embeddings=True)\n",
    ")\n",
    "\n",
    "# =======================\n",
    "# 4. GUARDAR COMO PKL\n",
    "# =======================\n",
    "\n",
    "df.to_pickle(\"embeddings_e5_large_v2.pkl\")\n",
    "\n",
    "# =======================\n",
    "# 5. GUARDAR COMO CSV\n",
    "# =======================\n",
    "\n",
    "# Expandimos el vector embedding en 1024 columnas\n",
    "embedding_df = pd.DataFrame(df[\"embedding\"].tolist())\n",
    "embedding_df.columns = [f\"dim_{i}\" for i in range(embedding_df.shape[1])]\n",
    "\n",
    "# Concatenamos con las columnas originales\n",
    "final_df = pd.concat([df.drop(columns=\"embedding\"), embedding_df], axis=1)\n",
    "\n",
    "# Guardamos\n",
    "final_df.to_csv(\"embeddings_e5_large_v2.csv\", index=False)\n",
    "print(\"✅ Archivos .pkl y .csv generados.\")"
   ]
  },
  {
   "cell_type": "code",
   "execution_count": null,
   "id": "e02c5442",
   "metadata": {},
   "outputs": [],
   "source": []
  }
 ],
 "metadata": {
  "kernelspec": {
   "display_name": "mining-project",
   "language": "python",
   "name": "python3"
  },
  "language_info": {
   "codemirror_mode": {
    "name": "ipython",
    "version": 3
   },
   "file_extension": ".py",
   "mimetype": "text/x-python",
   "name": "python",
   "nbconvert_exporter": "python",
   "pygments_lexer": "ipython3",
   "version": "3.8.18"
  }
 },
 "nbformat": 4,
 "nbformat_minor": 5
}
