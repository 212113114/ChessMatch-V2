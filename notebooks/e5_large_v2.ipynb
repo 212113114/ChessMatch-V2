{
 "cells": [
  {
   "cell_type": "markdown",
   "id": "4ff57ce8",
   "metadata": {},
   "source": [
    "### e5-large-v2 embedding"
   ]
  },
  {
   "cell_type": "code",
   "execution_count": 3,
   "id": "ca0896b3",
   "metadata": {},
   "outputs": [],
   "source": [
    "import os"
   ]
  },
  {
   "cell_type": "code",
   "execution_count": 7,
   "id": "48ca6d78",
   "metadata": {},
   "outputs": [
    {
     "data": {
      "text/plain": [
       "'/Users/franciscomeza/Desktop/ING/ING_MAT_COMP/9_semestre/Sistemas_recomendadores/Proyecto/ChessMatch-V2'"
      ]
     },
     "execution_count": 7,
     "metadata": {},
     "output_type": "execute_result"
    }
   ],
   "source": [
    "os.getcwd()\n",
    "# os.chdir('..')"
   ]
  },
  {
   "cell_type": "code",
   "execution_count": null,
   "id": "3ef0cf4f",
   "metadata": {},
   "outputs": [
    {
     "data": {
      "application/vnd.jupyter.widget-view+json": {
       "model_id": "3a20086d04004ec9879c9ab39886c2e3",
       "version_major": 2,
       "version_minor": 0
      },
      "text/plain": [
       "Downloading .gitattributes:   0%|          | 0.00/1.48k [00:00<?, ?B/s]"
      ]
     },
     "metadata": {},
     "output_type": "display_data"
    },
    {
     "data": {
      "application/vnd.jupyter.widget-view+json": {
       "model_id": "cb58c0e5f7254aeaa71dc30a44ac38a0",
       "version_major": 2,
       "version_minor": 0
      },
      "text/plain": [
       "Downloading config.json:   0%|          | 0.00/201 [00:00<?, ?B/s]"
      ]
     },
     "metadata": {},
     "output_type": "display_data"
    },
    {
     "data": {
      "application/vnd.jupyter.widget-view+json": {
       "model_id": "88455b511c144685a3e2557e5a44252c",
       "version_major": 2,
       "version_minor": 0
      },
      "text/plain": [
       "Downloading README.md:   0%|          | 0.00/67.8k [00:00<?, ?B/s]"
      ]
     },
     "metadata": {},
     "output_type": "display_data"
    },
    {
     "data": {
      "application/vnd.jupyter.widget-view+json": {
       "model_id": "e4fb16476ff84df3a46037c3f5ee7858",
       "version_major": 2,
       "version_minor": 0
      },
      "text/plain": [
       "Downloading config.json:   0%|          | 0.00/616 [00:00<?, ?B/s]"
      ]
     },
     "metadata": {},
     "output_type": "display_data"
    },
    {
     "data": {
      "application/vnd.jupyter.widget-view+json": {
       "model_id": "331ea1503a524d63acb732ce07bfed84",
       "version_major": 2,
       "version_minor": 0
      },
      "text/plain": [
       "Downloading handler.py:   0%|          | 0.00/1.12k [00:00<?, ?B/s]"
      ]
     },
     "metadata": {},
     "output_type": "display_data"
    },
    {
     "data": {
      "application/vnd.jupyter.widget-view+json": {
       "model_id": "0ef1ee39a88e4593928fb16d2db71299",
       "version_major": 2,
       "version_minor": 0
      },
      "text/plain": [
       "Downloading model.safetensors:   0%|          | 0.00/1.34G [00:00<?, ?B/s]"
      ]
     },
     "metadata": {},
     "output_type": "display_data"
    },
    {
     "data": {
      "application/vnd.jupyter.widget-view+json": {
       "model_id": "ff49483c81c342e6aa1d87e0fba52edb",
       "version_major": 2,
       "version_minor": 0
      },
      "text/plain": [
       "Downloading model.onnx:   0%|          | 0.00/1.34G [00:00<?, ?B/s]"
      ]
     },
     "metadata": {},
     "output_type": "display_data"
    }
   ],
   "source": [
    "import pandas as pd\n",
    "from sentence_transformers import SentenceTransformer\n",
    "from tqdm import tqdm\n",
    "import numpy as np\n",
    "\n",
    "# =======================\n",
    "# 1. CARGAR DATOS\n",
    "# =======================\n",
    "\n",
    "df = pd.read_csv(\"csvs/player_moves.csv\")  # Reemplaza con la ruta a tu CSV\n",
    "df[\"moves\"] = df[\"moves\"].str.replace(\"  \", \" \", regex=False).str.strip()\n",
    "\n",
    "# =======================\n",
    "# 2. CARGAR MODELO E5\n",
    "# =======================\n",
    "\n",
    "model = SentenceTransformer(\"intfloat/e5-large-v2\")\n",
    "\n",
    "# =======================\n",
    "# 3. GENERAR EMBEDDINGS\n",
    "# =======================\n",
    "\n",
    "tqdm.pandas(desc=\"Generando embeddings\")\n",
    "\n",
    "df[\"embedding\"] = df[\"moves\"].progress_apply(\n",
    "    lambda x: model.encode(x, normalize_embeddings=True)\n",
    ")\n",
    "\n",
    "# =======================\n",
    "# 4. GUARDAR COMO PKL\n",
    "# =======================\n",
    "\n",
    "df.to_pickle(\"embeddings_e5_large_v2.pkl\")\n",
    "\n",
    "# =======================\n",
    "# 5. GUARDAR COMO CSV\n",
    "# =======================\n",
    "\n",
    "# Expandimos el vector embedding en 1024 columnas\n",
    "embedding_df = pd.DataFrame(df[\"embedding\"].tolist())\n",
    "embedding_df.columns = [f\"dim_{i}\" for i in range(embedding_df.shape[1])]\n",
    "\n",
    "# Concatenamos con las columnas originales\n",
    "final_df = pd.concat([df.drop(columns=\"embedding\"), embedding_df], axis=1)\n",
    "\n",
    "# Guardamos\n",
    "final_df.to_csv(\"embeddings_e5_large_v2.csv\", index=False)\n",
    "print(\"✅ Archivos .pkl y .csv generados.\")"
   ]
  },
  {
   "cell_type": "code",
   "execution_count": null,
   "id": "e02c5442",
   "metadata": {},
   "outputs": [],
   "source": []
  }
 ],
 "metadata": {
  "kernelspec": {
   "display_name": "mining-project",
   "language": "python",
   "name": "python3"
  },
  "language_info": {
   "codemirror_mode": {
    "name": "ipython",
    "version": 3
   },
   "file_extension": ".py",
   "mimetype": "text/x-python",
   "name": "python",
   "nbconvert_exporter": "python",
   "pygments_lexer": "ipython3",
   "version": "3.8.18"
  }
 },
 "nbformat": 4,
 "nbformat_minor": 5
}
